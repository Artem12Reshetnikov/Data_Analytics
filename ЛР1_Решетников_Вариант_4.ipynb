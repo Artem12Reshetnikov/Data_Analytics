{
 "cells": [
  {
   "cell_type": "markdown",
   "metadata": {
    "id": "bri_pAriNFqN"
   },
   "source": [
    "**Цель работы:**\n",
    "\n",
    "Осуществить предварительную обработку данных csv-файла, выявить и устранить проблемы в этих данных."
   ]
  },
  {
   "cell_type": "markdown",
   "metadata": {
    "id": "r_e-GeJmgZ8l"
   },
   "source": [
    "# Загрузка набора данных"
   ]
  },
  {
   "cell_type": "markdown",
   "metadata": {
    "id": "eeq9ZAbSguQS"
   },
   "source": [
    "### Описание предметной области"
   ]
  },
  {
   "cell_type": "markdown",
   "metadata": {
    "id": "XHbH8zNIg0Ib"
   },
   "source": [
    "Вариант №4\n",
    "\n",
    "Набор данных: salary.csv\n",
    "\n",
    "Атрибуты:"
   ]
  },
  {
   "cell_type": "markdown",
   "metadata": {
    "id": "Lwin9ia7hT1i"
   },
   "source": [
    "### 1.Чтение файла (набора данных)"
   ]
  },
  {
   "cell_type": "code",
   "execution_count": 1,
   "metadata": {
    "id": "a5dYQO5YhOYa"
   },
   "outputs": [],
   "source": [
    "# импорт библиотек, чтение файла с помощью pandas\n",
    "import pandas as pd\n",
    "df = pd.read_csv(r\"C:\\Users\\ar121\\OneDrive\\Рабочий стол\\SUAI Labs\\Введение в анализ данных\\salary.csv\", sep = ';')"
   ]
  },
  {
   "cell_type": "markdown",
   "metadata": {
    "id": "p82p53SvhjLN"
   },
   "source": [
    "### 2. Обзор данных"
   ]
  },
  {
   "cell_type": "markdown",
   "metadata": {
    "id": "eAYzXaLrh-qh"
   },
   "source": [
    "2.1 Вывод первых 20 строк с помощью метода head."
   ]
  },
  {
   "cell_type": "code",
   "execution_count": 2,
   "metadata": {
    "id": "7yMo3VZ_hotx"
   },
   "outputs": [
    {
     "data": {
      "text/html": [
       "<div>\n",
       "<style scoped>\n",
       "    .dataframe tbody tr th:only-of-type {\n",
       "        vertical-align: middle;\n",
       "    }\n",
       "\n",
       "    .dataframe tbody tr th {\n",
       "        vertical-align: top;\n",
       "    }\n",
       "\n",
       "    .dataframe thead th {\n",
       "        text-align: right;\n",
       "    }\n",
       "</style>\n",
       "<table border=\"1\" class=\"dataframe\">\n",
       "  <thead>\n",
       "    <tr style=\"text-align: right;\">\n",
       "      <th></th>\n",
       "      <th>work_year</th>\n",
       "      <th>employment_type</th>\n",
       "      <th>job_title</th>\n",
       "      <th>salary</th>\n",
       "      <th>salary_in_usd</th>\n",
       "      <th>employee_residence</th>\n",
       "      <th>company_location</th>\n",
       "      <th>company_size</th>\n",
       "    </tr>\n",
       "  </thead>\n",
       "  <tbody>\n",
       "    <tr>\n",
       "      <th>0</th>\n",
       "      <td>2020.0</td>\n",
       "      <td>FT</td>\n",
       "      <td>Data SCIENTIST</td>\n",
       "      <td>70000.0</td>\n",
       "      <td>79833.0</td>\n",
       "      <td>DE</td>\n",
       "      <td>DE</td>\n",
       "      <td>L</td>\n",
       "    </tr>\n",
       "    <tr>\n",
       "      <th>1</th>\n",
       "      <td>2020.0</td>\n",
       "      <td>FT</td>\n",
       "      <td>Product Data Analyst</td>\n",
       "      <td>20000.0</td>\n",
       "      <td>20000.0</td>\n",
       "      <td>HN</td>\n",
       "      <td>HN</td>\n",
       "      <td>S</td>\n",
       "    </tr>\n",
       "    <tr>\n",
       "      <th>2</th>\n",
       "      <td>2020.0</td>\n",
       "      <td>FT</td>\n",
       "      <td>Data Analyst</td>\n",
       "      <td>72000.0</td>\n",
       "      <td>72000.0</td>\n",
       "      <td>US</td>\n",
       "      <td>US</td>\n",
       "      <td>L</td>\n",
       "    </tr>\n",
       "    <tr>\n",
       "      <th>3</th>\n",
       "      <td>2020.0</td>\n",
       "      <td>FT</td>\n",
       "      <td>Data Scientist</td>\n",
       "      <td>11000000.0</td>\n",
       "      <td>35735.0</td>\n",
       "      <td>HU</td>\n",
       "      <td>HU</td>\n",
       "      <td>L</td>\n",
       "    </tr>\n",
       "    <tr>\n",
       "      <th>4</th>\n",
       "      <td>2020.0</td>\n",
       "      <td>FT</td>\n",
       "      <td>Data Scientist</td>\n",
       "      <td>45000.0</td>\n",
       "      <td>51321.0</td>\n",
       "      <td>FR</td>\n",
       "      <td>FR</td>\n",
       "      <td>S</td>\n",
       "    </tr>\n",
       "    <tr>\n",
       "      <th>5</th>\n",
       "      <td>2020.0</td>\n",
       "      <td>FT</td>\n",
       "      <td>Data Scientist</td>\n",
       "      <td>3000000.0</td>\n",
       "      <td>40481.0</td>\n",
       "      <td>IN</td>\n",
       "      <td>IN</td>\n",
       "      <td>L</td>\n",
       "    </tr>\n",
       "    <tr>\n",
       "      <th>6</th>\n",
       "      <td>2020.0</td>\n",
       "      <td>FT</td>\n",
       "      <td>Data Scientist</td>\n",
       "      <td>35000.0</td>\n",
       "      <td>39916.0</td>\n",
       "      <td>FR</td>\n",
       "      <td>FR</td>\n",
       "      <td>M</td>\n",
       "    </tr>\n",
       "    <tr>\n",
       "      <th>7</th>\n",
       "      <td>2020.0</td>\n",
       "      <td>FT</td>\n",
       "      <td>Data Analyst</td>\n",
       "      <td>85000.0</td>\n",
       "      <td>85000.0</td>\n",
       "      <td>US</td>\n",
       "      <td>US</td>\n",
       "      <td>L</td>\n",
       "    </tr>\n",
       "    <tr>\n",
       "      <th>8</th>\n",
       "      <td>2020.0</td>\n",
       "      <td>FT</td>\n",
       "      <td>Data Analyst</td>\n",
       "      <td>8000.0</td>\n",
       "      <td>8000.0</td>\n",
       "      <td>PK</td>\n",
       "      <td>PK</td>\n",
       "      <td>Large</td>\n",
       "    </tr>\n",
       "    <tr>\n",
       "      <th>9</th>\n",
       "      <td>2020.0</td>\n",
       "      <td>FT</td>\n",
       "      <td>Data Engineer</td>\n",
       "      <td>4450000.0</td>\n",
       "      <td>41689.0</td>\n",
       "      <td>JP</td>\n",
       "      <td>JP</td>\n",
       "      <td>S</td>\n",
       "    </tr>\n",
       "    <tr>\n",
       "      <th>10</th>\n",
       "      <td>2020.0</td>\n",
       "      <td>FT</td>\n",
       "      <td>Product Data Analyst</td>\n",
       "      <td>450000.0</td>\n",
       "      <td>6072.0</td>\n",
       "      <td>IN</td>\n",
       "      <td>IN</td>\n",
       "      <td>L</td>\n",
       "    </tr>\n",
       "    <tr>\n",
       "      <th>11</th>\n",
       "      <td>2020.0</td>\n",
       "      <td>FT</td>\n",
       "      <td>Data Engineer</td>\n",
       "      <td>42000.0</td>\n",
       "      <td>47899.0</td>\n",
       "      <td>GR</td>\n",
       "      <td>GR</td>\n",
       "      <td>L</td>\n",
       "    </tr>\n",
       "    <tr>\n",
       "      <th>12</th>\n",
       "      <td>2020.0</td>\n",
       "      <td>FT</td>\n",
       "      <td>Data Engineer</td>\n",
       "      <td>720000.0</td>\n",
       "      <td>33511.0</td>\n",
       "      <td>MX</td>\n",
       "      <td>MX</td>\n",
       "      <td>S</td>\n",
       "    </tr>\n",
       "    <tr>\n",
       "      <th>13</th>\n",
       "      <td>2020.0</td>\n",
       "      <td>FT</td>\n",
       "      <td>Machine Learning Manager</td>\n",
       "      <td>157000.0</td>\n",
       "      <td>117104.0</td>\n",
       "      <td>CA</td>\n",
       "      <td>CA</td>\n",
       "      <td>L</td>\n",
       "    </tr>\n",
       "    <tr>\n",
       "      <th>14</th>\n",
       "      <td>2020.0</td>\n",
       "      <td>FT</td>\n",
       "      <td>Data Scientist</td>\n",
       "      <td>60000.0</td>\n",
       "      <td>68428.0</td>\n",
       "      <td>GR</td>\n",
       "      <td>US</td>\n",
       "      <td>L</td>\n",
       "    </tr>\n",
       "    <tr>\n",
       "      <th>15</th>\n",
       "      <td>2020.0</td>\n",
       "      <td>FT</td>\n",
       "      <td>Data Analyst</td>\n",
       "      <td>41000.0</td>\n",
       "      <td>46759.0</td>\n",
       "      <td>FR</td>\n",
       "      <td>FR</td>\n",
       "      <td>L</td>\n",
       "    </tr>\n",
       "    <tr>\n",
       "      <th>16</th>\n",
       "      <td>2020.0</td>\n",
       "      <td>FT</td>\n",
       "      <td>Data Engineer</td>\n",
       "      <td>65000.0</td>\n",
       "      <td>74130.0</td>\n",
       "      <td>AT</td>\n",
       "      <td>AT</td>\n",
       "      <td>L</td>\n",
       "    </tr>\n",
       "    <tr>\n",
       "      <th>17</th>\n",
       "      <td>2020.0</td>\n",
       "      <td>FT</td>\n",
       "      <td>Data Analyst</td>\n",
       "      <td>10000.0</td>\n",
       "      <td>10000.0</td>\n",
       "      <td>NG</td>\n",
       "      <td>NG</td>\n",
       "      <td>S</td>\n",
       "    </tr>\n",
       "    <tr>\n",
       "      <th>18</th>\n",
       "      <td>2020.0</td>\n",
       "      <td>FT</td>\n",
       "      <td>Data Scientist</td>\n",
       "      <td>45760.0</td>\n",
       "      <td>45760.0</td>\n",
       "      <td>PH</td>\n",
       "      <td>US</td>\n",
       "      <td>S</td>\n",
       "    </tr>\n",
       "    <tr>\n",
       "      <th>19</th>\n",
       "      <td>2020.0</td>\n",
       "      <td>FT</td>\n",
       "      <td>Data Engineer</td>\n",
       "      <td>106000.0</td>\n",
       "      <td>106000.0</td>\n",
       "      <td>US</td>\n",
       "      <td>US</td>\n",
       "      <td>L</td>\n",
       "    </tr>\n",
       "  </tbody>\n",
       "</table>\n",
       "</div>"
      ],
      "text/plain": [
       "    work_year employment_type                 job_title      salary  \\\n",
       "0      2020.0              FT            Data SCIENTIST     70000.0   \n",
       "1      2020.0              FT      Product Data Analyst     20000.0   \n",
       "2      2020.0              FT              Data Analyst     72000.0   \n",
       "3      2020.0              FT            Data Scientist  11000000.0   \n",
       "4      2020.0              FT            Data Scientist     45000.0   \n",
       "5      2020.0              FT            Data Scientist   3000000.0   \n",
       "6      2020.0              FT            Data Scientist     35000.0   \n",
       "7      2020.0              FT              Data Analyst     85000.0   \n",
       "8      2020.0              FT              Data Analyst      8000.0   \n",
       "9      2020.0              FT             Data Engineer   4450000.0   \n",
       "10     2020.0              FT      Product Data Analyst    450000.0   \n",
       "11     2020.0              FT             Data Engineer     42000.0   \n",
       "12     2020.0              FT             Data Engineer    720000.0   \n",
       "13     2020.0              FT  Machine Learning Manager    157000.0   \n",
       "14     2020.0              FT            Data Scientist     60000.0   \n",
       "15     2020.0              FT              Data Analyst     41000.0   \n",
       "16     2020.0              FT             Data Engineer     65000.0   \n",
       "17     2020.0              FT              Data Analyst     10000.0   \n",
       "18     2020.0              FT            Data Scientist     45760.0   \n",
       "19     2020.0              FT             Data Engineer    106000.0   \n",
       "\n",
       "    salary_in_usd employee_residence company_location company_size  \n",
       "0         79833.0                 DE               DE            L  \n",
       "1         20000.0                 HN               HN            S  \n",
       "2         72000.0                 US               US            L  \n",
       "3         35735.0                 HU               HU            L  \n",
       "4         51321.0                 FR               FR            S  \n",
       "5         40481.0                 IN               IN            L  \n",
       "6         39916.0                 FR               FR            M  \n",
       "7         85000.0                 US               US            L  \n",
       "8          8000.0                 PK               PK        Large  \n",
       "9         41689.0                 JP               JP            S  \n",
       "10         6072.0                 IN               IN            L  \n",
       "11        47899.0                 GR               GR            L  \n",
       "12        33511.0                 MX               MX            S  \n",
       "13       117104.0                 CA               CA            L  \n",
       "14        68428.0                 GR               US            L  \n",
       "15        46759.0                 FR               FR            L  \n",
       "16        74130.0                 AT               AT            L  \n",
       "17        10000.0                 NG               NG            S  \n",
       "18        45760.0                 PH               US            S  \n",
       "19       106000.0                 US               US            L  "
      ]
     },
     "execution_count": 2,
     "metadata": {},
     "output_type": "execute_result"
    }
   ],
   "source": [
    "# применить метод head\n",
    "df.head(20)"
   ]
  },
  {
   "cell_type": "markdown",
   "metadata": {
    "id": "Ze-lXxLMhpWv"
   },
   "source": [
    "2.2 Оценка данных с помощью метода info."
   ]
  },
  {
   "cell_type": "code",
   "execution_count": 3,
   "metadata": {
    "id": "bjhngmaLiGM-"
   },
   "outputs": [
    {
     "name": "stdout",
     "output_type": "stream",
     "text": [
      "<class 'pandas.core.frame.DataFrame'>\n",
      "RangeIndex: 401 entries, 0 to 400\n",
      "Data columns (total 8 columns):\n",
      " #   Column              Non-Null Count  Dtype  \n",
      "---  ------              --------------  -----  \n",
      " 0   work_year           401 non-null    float64\n",
      " 1   employment_type     401 non-null    object \n",
      " 2   job_title           401 non-null    object \n",
      " 3   salary              398 non-null    float64\n",
      " 4   salary_in_usd       401 non-null    float64\n",
      " 5   employee_residence  401 non-null    object \n",
      " 6   company_location    401 non-null    object \n",
      " 7   company_size        401 non-null    object \n",
      "dtypes: float64(3), object(5)\n",
      "memory usage: 25.2+ KB\n"
     ]
    }
   ],
   "source": [
    "# выполнит метод info\n",
    "df.info()"
   ]
  },
  {
   "cell_type": "markdown",
   "metadata": {
    "id": "06PDq9DAiMAY"
   },
   "source": [
    "2.3 Оценка данных с помощью метода describe."
   ]
  },
  {
   "cell_type": "code",
   "execution_count": 4,
   "metadata": {
    "id": "cTVFwzO1jQfN"
   },
   "outputs": [
    {
     "data": {
      "text/html": [
       "<div>\n",
       "<style scoped>\n",
       "    .dataframe tbody tr th:only-of-type {\n",
       "        vertical-align: middle;\n",
       "    }\n",
       "\n",
       "    .dataframe tbody tr th {\n",
       "        vertical-align: top;\n",
       "    }\n",
       "\n",
       "    .dataframe thead th {\n",
       "        text-align: right;\n",
       "    }\n",
       "</style>\n",
       "<table border=\"1\" class=\"dataframe\">\n",
       "  <thead>\n",
       "    <tr style=\"text-align: right;\">\n",
       "      <th></th>\n",
       "      <th>work_year</th>\n",
       "      <th>salary</th>\n",
       "      <th>salary_in_usd</th>\n",
       "    </tr>\n",
       "  </thead>\n",
       "  <tbody>\n",
       "    <tr>\n",
       "      <th>count</th>\n",
       "      <td>401.000000</td>\n",
       "      <td>3.980000e+02</td>\n",
       "      <td>401.000000</td>\n",
       "    </tr>\n",
       "    <tr>\n",
       "      <th>mean</th>\n",
       "      <td>2021.528678</td>\n",
       "      <td>2.888336e+05</td>\n",
       "      <td>105895.017456</td>\n",
       "    </tr>\n",
       "    <tr>\n",
       "      <th>std</th>\n",
       "      <td>0.678086</td>\n",
       "      <td>1.677081e+06</td>\n",
       "      <td>58183.664171</td>\n",
       "    </tr>\n",
       "    <tr>\n",
       "      <th>min</th>\n",
       "      <td>2020.000000</td>\n",
       "      <td>4.000000e+03</td>\n",
       "      <td>2859.000000</td>\n",
       "    </tr>\n",
       "    <tr>\n",
       "      <th>25%</th>\n",
       "      <td>2021.000000</td>\n",
       "      <td>6.700000e+04</td>\n",
       "      <td>65013.000000</td>\n",
       "    </tr>\n",
       "    <tr>\n",
       "      <th>50%</th>\n",
       "      <td>2022.000000</td>\n",
       "      <td>1.091400e+05</td>\n",
       "      <td>100000.000000</td>\n",
       "    </tr>\n",
       "    <tr>\n",
       "      <th>75%</th>\n",
       "      <td>2022.000000</td>\n",
       "      <td>1.500000e+05</td>\n",
       "      <td>140000.000000</td>\n",
       "    </tr>\n",
       "    <tr>\n",
       "      <th>max</th>\n",
       "      <td>2022.000000</td>\n",
       "      <td>3.040000e+07</td>\n",
       "      <td>412000.000000</td>\n",
       "    </tr>\n",
       "  </tbody>\n",
       "</table>\n",
       "</div>"
      ],
      "text/plain": [
       "         work_year        salary  salary_in_usd\n",
       "count   401.000000  3.980000e+02     401.000000\n",
       "mean   2021.528678  2.888336e+05  105895.017456\n",
       "std       0.678086  1.677081e+06   58183.664171\n",
       "min    2020.000000  4.000000e+03    2859.000000\n",
       "25%    2021.000000  6.700000e+04   65013.000000\n",
       "50%    2022.000000  1.091400e+05  100000.000000\n",
       "75%    2022.000000  1.500000e+05  140000.000000\n",
       "max    2022.000000  3.040000e+07  412000.000000"
      ]
     },
     "execution_count": 4,
     "metadata": {},
     "output_type": "execute_result"
    }
   ],
   "source": [
    "# оцените числовые столбцы с помощью describe\n",
    "df.describe()"
   ]
  },
  {
   "cell_type": "markdown",
   "metadata": {},
   "source": [
    "### Промежуточный вывод о данных\n",
    "Данные содержат 401 запись о работниках IT-сферы с 8 признаками, включая год выплаты заработной платы, тип работы, должность, зарплата за год, Зарплата в долларах, страна проживания, страна главного офиса и среднее кол-во людей в компании. <br>\n",
    "Типы данных: <br>\n",
    "Числовые: <br>\n",
    "•\tsalary (float64) — зарплата в исходной валюте, содержит числовые значения. <br>\n",
    "•\tsalary_in_usd (float64) — зарплата, приведённая к долларам США. <br>\n",
    "•\twork_year — год выплаты заработной платы <br>\n",
    "Категориальные (object, на деле содержат ограниченный набор значений): <br>\n",
    "•\temployment_type — тип занятости (FT, PT, CT, FL). <br>\n",
    "•\tjob_title — название должности. <br>\n",
    "•\temployee_residence — страна проживания сотрудника. <br>\n",
    "•\tcompany_location — страна расположения компании. <br>\n",
    "•\tcompany_size — размер компании (S, M, L)."
   ]
  },
  {
   "cell_type": "markdown",
   "metadata": {
    "id": "oOZUrZGuiGqc"
   },
   "source": [
    "\n",
    "---\n",
    "\n",
    "**Сделать выводы. Вы должны понимать, что означает тот или иной столбец, чтобы\n",
    " ответить на вопросы на защите.**\n",
    "\n",
    "\n",
    " ---\n"
   ]
  },
  {
   "cell_type": "markdown",
   "metadata": {
    "id": "JTbo0IGDiHxn"
   },
   "source": [
    " 2.4 Оценка названий столбцов"
   ]
  },
  {
   "cell_type": "code",
   "execution_count": 5,
   "metadata": {
    "id": "9NEyi2Odik3e"
   },
   "outputs": [
    {
     "name": "stdout",
     "output_type": "stream",
     "text": [
      "Index(['work_year', 'employment_type', 'job_title', 'salary', 'salary_in_usd',\n",
      "       'employee_residence', 'company_location', 'company_size'],\n",
      "      dtype='object')\n"
     ]
    }
   ],
   "source": [
    "# Вывести на экран названия столбцов с помощью df.columns. Выявить проблемы с названиями, если они есть. При необходимости переименовать столбцы. Если проблемы не обнаружены также дать пояснения.\n",
    "print(df.columns)"
   ]
  },
  {
   "cell_type": "markdown",
   "metadata": {
    "id": "QSJBLl4qjjP8"
   },
   "source": [
    "В названиях колонок отсутствуют пробелы и кирилица, таким образом переименование не ялвляется необходимым"
   ]
  },
  {
   "cell_type": "markdown",
   "metadata": {
    "id": "V0tLQcyrjnA_"
   },
   "source": [
    "### 3. Проверка пропусков"
   ]
  },
  {
   "cell_type": "code",
   "execution_count": 6,
   "metadata": {
    "id": "xuTz-Avjj9AW"
   },
   "outputs": [
    {
     "name": "stdout",
     "output_type": "stream",
     "text": [
      "work_year             0\n",
      "employment_type       0\n",
      "job_title             0\n",
      "salary                3\n",
      "salary_in_usd         0\n",
      "employee_residence    0\n",
      "company_location      0\n",
      "company_size          0\n",
      "dtype: int64\n"
     ]
    }
   ],
   "source": [
    "# Проверить данные на наличие пропусков и устранить их, если они есть (пропуски необходимо либо удалить, либо заменить каким-то значением).\n",
    "print(df.isna().sum())"
   ]
  },
  {
   "cell_type": "code",
   "execution_count": 7,
   "metadata": {},
   "outputs": [
    {
     "name": "stdout",
     "output_type": "stream",
     "text": [
      "work_year             0\n",
      "employment_type       0\n",
      "job_title             0\n",
      "salary                0\n",
      "salary_in_usd         0\n",
      "employee_residence    0\n",
      "company_location      0\n",
      "company_size          0\n",
      "dtype: int64\n"
     ]
    }
   ],
   "source": [
    "df[\"salary\"] = df[\"salary\"].fillna(df[\"salary\"].median())\n",
    "print(df.isna().sum())"
   ]
  },
  {
   "cell_type": "markdown",
   "metadata": {
    "id": "efZ7vgSVkPQH"
   },
   "source": [
    "\n",
    "---\n",
    "\n",
    "**Вы должны аргументировать на защите, почему были выполнены те или иные действия с пропусками, а также знать другие способы работы с пропусками, чтобы\n",
    " ответить на вопросы на защите.**\n",
    "\n",
    "\n",
    " ---"
   ]
  },
  {
   "cell_type": "markdown",
   "metadata": {
    "id": "kkyrXXHikEXk"
   },
   "source": [
    "### 4. Проверка дубликатов"
   ]
  },
  {
   "cell_type": "markdown",
   "metadata": {
    "id": "ImqHvr3okIQ6"
   },
   "source": [
    "#### Проверка явных дубликатов"
   ]
  },
  {
   "cell_type": "code",
   "execution_count": 8,
   "metadata": {
    "id": "qu1oh-e5lDZ1"
   },
   "outputs": [
    {
     "name": "stdout",
     "output_type": "stream",
     "text": [
      "Дубликатов: 55\n"
     ]
    }
   ],
   "source": [
    "print(\"Дубликатов:\", df.duplicated().sum())"
   ]
  },
  {
   "cell_type": "code",
   "execution_count": 9,
   "metadata": {
    "id": "ntArgvChkK26"
   },
   "outputs": [
    {
     "name": "stdout",
     "output_type": "stream",
     "text": [
      "Дубликатов: 0\n"
     ]
    }
   ],
   "source": [
    "# удалите дубликаты, если они есть\n",
    "df = df.drop_duplicates()\n",
    "print(\"Дубликатов:\", df.duplicated().sum())\n",
    "df = df.drop_duplicates().reset_index()"
   ]
  },
  {
   "cell_type": "markdown",
   "metadata": {
    "id": "VeHTMcOmkLSw"
   },
   "source": [
    "#### Проверка неявных дубликатов"
   ]
  },
  {
   "cell_type": "code",
   "execution_count": 10,
   "metadata": {
    "id": "-uOPKHlVlGo8"
   },
   "outputs": [
    {
     "name": "stdout",
     "output_type": "stream",
     "text": [
      "['Data SCIENTIST' 'Product Data Analyst' 'Data Analyst' 'Data Scientist'\n",
      " 'Data Engineer' 'Machine Learning Manager' 'Data Analytics Engineer'\n",
      " 'Data Science Engineer' 'Machine Learning Developer'\n",
      " 'Data Analytics Manager' 'Head of Data Science'\n",
      " 'Head of Machine Learning' 'NLP Engineer' 'Data Analytics Lead'\n",
      " 'DataScientist' 'Data AnalyticsManager']\n",
      "['L' 'S' 'M' 'Large']\n",
      "['FT' 'PT' 'FL']\n",
      "['DE' 'HN' 'US' 'HU' 'FR' 'IN' 'PK' 'JP' 'GR' 'MX' 'CA' 'AT' 'NG' 'GB'\n",
      " 'ES' 'IT' 'LU' 'PL' 'NL' 'IQ' 'UA' 'IL' 'RU' 'MT' 'CL' 'IR' 'BR' 'VN'\n",
      " 'TR' 'DZ' 'MY' 'AU' 'CH']\n",
      "['DE' 'HN' 'US' 'HU' 'FR' 'IN' 'PK' 'JP' 'GR' 'MX' 'CA' 'AT' 'NG' 'PH'\n",
      " 'GB' 'ES' 'IT' 'PL' 'BG' 'NL' 'IQ' 'UA' 'SG' 'RU' 'MT' 'CL' 'RO' 'IR'\n",
      " 'VN' 'BR' 'HK' 'TR' 'RS' 'AR' 'DZ' 'AU' 'CH']\n"
     ]
    }
   ],
   "source": [
    "print(df['job_title'].unique())\n",
    "print(df['company_size'].unique())\n",
    "print(df['employment_type'].unique())\n",
    "print(df['company_location'].unique())\n",
    "print(df['employee_residence'].unique())"
   ]
  },
  {
   "cell_type": "code",
   "execution_count": 11,
   "metadata": {
    "id": "89tMFEQ2k_M7"
   },
   "outputs": [
    {
     "name": "stdout",
     "output_type": "stream",
     "text": [
      "['Data Scientist' 'Product Data Analyst' 'Data Analyst' 'Data Engineer'\n",
      " 'Machine Learning Manager' 'Data Analytics Engineer'\n",
      " 'Data Science Engineer' 'Machine Learning Developer'\n",
      " 'Data Analytics Manager' 'Head of Data Science'\n",
      " 'Head of Machine Learning' 'NLP Engineer' 'Data Analytics Lead']\n",
      "['L' 'S' 'M']\n"
     ]
    }
   ],
   "source": [
    "# удалите дубликаты, если они есть\n",
    "df['job_title'] = df['job_title'].replace('Data SCIENTIST', 'Data Scientist')\n",
    "df['job_title'] = df['job_title'].replace('Data AnalyticsManager', 'Data Analytics Manager')\n",
    "df['job_title'] = df['job_title'].replace('DataScientist', 'Data Scientist')\n",
    "df['company_size'] = df['company_size'].replace('Large', 'L')\n",
    "print(df['job_title'].unique())\n",
    "print(df['company_size'].unique())"
   ]
  },
  {
   "cell_type": "markdown",
   "metadata": {
    "id": "GMcnDpOmlKhU"
   },
   "source": [
    "---\n",
    "\n",
    "**Вы должны аргументировать на защите, почему были выполнены те или иные действия с дубликатами, знать, что такое явные и неявные дубликаты и способы работы с ними, чтобы ответить на вопросы на защите.**\n",
    "\n",
    "\n",
    " ---"
   ]
  },
  {
   "cell_type": "markdown",
   "metadata": {
    "id": "md9GhfYMlbi7"
   },
   "source": [
    "### 5. Провека типов данных"
   ]
  },
  {
   "cell_type": "code",
   "execution_count": 12,
   "metadata": {
    "id": "lXTroENaluCW"
   },
   "outputs": [
    {
     "name": "stdout",
     "output_type": "stream",
     "text": [
      "<class 'pandas.core.frame.DataFrame'>\n",
      "RangeIndex: 346 entries, 0 to 345\n",
      "Data columns (total 9 columns):\n",
      " #   Column              Non-Null Count  Dtype  \n",
      "---  ------              --------------  -----  \n",
      " 0   index               346 non-null    int64  \n",
      " 1   work_year           346 non-null    float64\n",
      " 2   employment_type     346 non-null    object \n",
      " 3   job_title           346 non-null    object \n",
      " 4   salary              346 non-null    float64\n",
      " 5   salary_in_usd       346 non-null    float64\n",
      " 6   employee_residence  346 non-null    object \n",
      " 7   company_location    346 non-null    object \n",
      " 8   company_size        346 non-null    object \n",
      "dtypes: float64(3), int64(1), object(5)\n",
      "memory usage: 24.5+ KB\n"
     ]
    }
   ],
   "source": [
    "df.info()"
   ]
  },
  {
   "cell_type": "code",
   "execution_count": 13,
   "metadata": {
    "id": "WXhXgu29lop3"
   },
   "outputs": [
    {
     "name": "stdout",
     "output_type": "stream",
     "text": [
      "<class 'pandas.core.frame.DataFrame'>\n",
      "RangeIndex: 346 entries, 0 to 345\n",
      "Data columns (total 9 columns):\n",
      " #   Column              Non-Null Count  Dtype   \n",
      "---  ------              --------------  -----   \n",
      " 0   index               346 non-null    int64   \n",
      " 1   work_year           346 non-null    int64   \n",
      " 2   employment_type     346 non-null    category\n",
      " 3   job_title           346 non-null    object  \n",
      " 4   salary              346 non-null    int64   \n",
      " 5   salary_in_usd       346 non-null    int64   \n",
      " 6   employee_residence  346 non-null    category\n",
      " 7   company_location    346 non-null    category\n",
      " 8   company_size        346 non-null    category\n",
      "dtypes: category(4), int64(4), object(1)\n",
      "memory usage: 17.9+ KB\n"
     ]
    }
   ],
   "source": [
    "# Проверьте типы данных, при необходимости измените типы данных, чтобы они соответствовали действительности.\n",
    "df[\"work_year\"] = df[\"work_year\"].astype('int64')\n",
    "df[\"salary\"] = df[\"salary\"].astype('int64')\n",
    "df[\"salary_in_usd\"] = df[\"salary_in_usd\"].astype('int64')\n",
    "df[\"employee_residence\"] = df[\"employee_residence\"].astype('category')\n",
    "df[\"company_location\"] = df[\"company_location\"].astype('category')\n",
    "df[\"company_size\"] = df[\"company_size\"].astype('category')\n",
    "df[\"employment_type\"] = df[\"employment_type\"].astype('category')\n",
    "df.info()"
   ]
  },
  {
   "cell_type": "markdown",
   "metadata": {},
   "source": [
    "### Изменения в типах данных <br>\n",
    "В ходе работы с данными были внесены следующие изменения в типы столбцов: <br>\n",
    "•\twork_year был приведён к типу int64, так как это целочисленные значения (годы), и хранение их в числовом формате позволяет корректно выполнять сортировку и арифметические операции. <br>\n",
    "•\tsalary и salary_in_usd преобразованы к типу int64, поскольку зарплата является числовым показателем и не должна храниться как число с плавающей точкой. <br>\n",
    "•\temployee_residence, company_location, company_size и employment_type переведены в тип category. Эти поля содержат ограниченное количество уникальных значений (страны проживания, местоположение компании, размер компании, тип занятости). Использование категориального типа данных снижает объём занимаемой памяти и ускоряет операции фильтрации и группировки.\n"
   ]
  },
  {
   "cell_type": "markdown",
   "metadata": {
    "id": "DPDBNN4dlx7W"
   },
   "source": [
    "---\n",
    "\n",
    "**Обратите внимание, что во всех вариантах необходимо сделать приведение типов. Будьте готовы на защите аргументировать проверку типов (почему выполнены те или иные преобразования).**\n",
    "\n",
    "\n",
    " ---"
   ]
  },
  {
   "cell_type": "markdown",
   "metadata": {
    "id": "lzr0SgqlnmHy"
   },
   "source": [
    "### 6. Группировка данных"
   ]
  },
  {
   "cell_type": "markdown",
   "metadata": {
    "id": "QG_dbwzfmZoS"
   },
   "source": [
    "#### Задание 1"
   ]
  },
  {
   "cell_type": "markdown",
   "metadata": {
    "id": "CyCKTB4DmciW"
   },
   "source": [
    "Группировка - “work_year” и количество компаний каждого размера"
   ]
  },
  {
   "cell_type": "code",
   "execution_count": 14,
   "metadata": {
    "id": "tp8Bl1gumYlI"
   },
   "outputs": [
    {
     "name": "stderr",
     "output_type": "stream",
     "text": [
      "C:\\Users\\ar121\\AppData\\Local\\Temp\\ipykernel_27396\\2589477629.py:2: FutureWarning: The default of observed=False is deprecated and will be changed to True in a future version of pandas. Pass observed=False to retain current behavior or observed=True to adopt the future default and silence this warning.\n",
      "  df.groupby([\"work_year\",\"company_size\"])[\"salary\"].mean()\n"
     ]
    },
    {
     "data": {
      "text/plain": [
       "work_year  company_size\n",
       "2020       L               744522.727273\n",
       "           M                91230.000000\n",
       "           S               412997.333333\n",
       "2021       L               720716.654545\n",
       "           M               282933.500000\n",
       "           S               198316.666667\n",
       "2022       L               504426.086957\n",
       "           M               125346.166667\n",
       "           S                47750.000000\n",
       "Name: salary, dtype: float64"
      ]
     },
     "execution_count": 14,
     "metadata": {},
     "output_type": "execute_result"
    }
   ],
   "source": [
    "# выполните группировку согласно варианту\n",
    "df.groupby([\"work_year\",\"company_size\"])[\"salary\"].mean()"
   ]
  },
  {
   "cell_type": "markdown",
   "metadata": {
    "id": "jLmhNuq0mms3"
   },
   "source": [
    "**`Сделайте вывод - интерпретацию - что можно увидеть из результата данной группировки?`**"
   ]
  },
  {
   "cell_type": "markdown",
   "metadata": {},
   "source": [
    "Промежуточный вывод по полученной группировке: <br>\n",
    "1.\tДоминирующие группы: <br>\n",
    "•\tВ 2021 году крупнейшие компании (L) имели наибольшее количество сотрудников — 55.<br>\n",
    "•\tВ 2022 году лидерами стали компании среднего размера (M) — 173.<br>\n",
    "2.\tДинамика по годам:<br>\n",
    "•\tВ 2020 году преобладали крупные компании (L — 22), но также значимо представлены малые (S — 15).<br>\n",
    "•\tВ 2021 году наблюдается рост по всем категориям, особенно у компаний среднего размера (M — 30).<br>\n",
    "•\tВ 2022 году отмечен резкий скачок числа сотрудников в компаниях среднего размера (M — 173), при снижении доли крупных (L — 23) и малых (S — 4).<br>\n",
    "3.\tПаттерны по размеру компаний:<br>\n",
    "•\tКомпании малого размера (S) наиболее заметны в 2020 году (15), но к 2022 году их число резко снизилось (4).<br>\n",
    "•\tКрупные компании (L) сохраняют стабильные позиции, но их численность не растёт, а в 2022 даже снижается.<br>\n",
    "•\tОсновной рост приходится на компании среднего размера (M), что указывает на расширение этого сегмента.<br>\n"
   ]
  },
  {
   "cell_type": "markdown",
   "metadata": {
    "id": "quMr70SmnMXS"
   },
   "source": [
    "---\n",
    "\n",
    "**Обратите внимание, что на защите вы должны ориентироваться в синтаксисе. При необходимости нужно быть готовым изменить код по просьбе преподавателя. Например, вместо среднего значения подсчитать медиану и т.д.**\n",
    "\n",
    "\n",
    " ---"
   ]
  },
  {
   "cell_type": "markdown",
   "metadata": {
    "id": "j0isGCzEne7a"
   },
   "source": [
    "#### Задание 2"
   ]
  },
  {
   "cell_type": "markdown",
   "metadata": {
    "id": "kE2vLBWbne7a"
   },
   "source": [
    "Группировка - “employment_type” и количество компаний по каждой\n",
    "локации “company_location”. Создать датафрейм. Переименовать столбец с\n",
    "количеством в “сount”. Отсортировать по возрастанию столбца “count”. "
   ]
  },
  {
   "cell_type": "code",
   "execution_count": 15,
   "metadata": {
    "id": "ttn78Zaene7a"
   },
   "outputs": [
    {
     "name": "stdout",
     "output_type": "stream",
     "text": [
      "   employment_type company_location  count\n",
      "3               FT               BR      1\n",
      "2               FT               AU      1\n",
      "6               FT               CL      1\n",
      "5               FT               CH      1\n",
      "14              FT               IL      1\n",
      "12              FT               HN      1\n",
      "13              FT               HU      1\n",
      "31              FT               VN      1\n",
      "24              FT               NL      1\n",
      "27              FT               RU      1\n",
      "22              FT               MY      1\n",
      "20              FT               MT      1\n",
      "19              FT               LU      1\n",
      "18              FT               JP      1\n",
      "17              FT               IR      1\n",
      "16              FT               IQ      1\n",
      "29              FT               UA      1\n",
      "34              PT               ES      1\n",
      "33              PT               DZ      1\n",
      "36              PT               NL      1\n",
      "35              PT               IT      1\n",
      "32              PT               DE      1\n",
      "26              FT               PL      2\n",
      "0               FL               US      2\n",
      "25              FT               PK      2\n",
      "23              FT               NG      2\n",
      "28              FT               TR      3\n",
      "21              FT               MX      3\n",
      "1               FT               AT      3\n",
      "8               FT               ES      9\n",
      "11              FT               GR      9\n",
      "7               FT               DE     11\n",
      "9               FT               FR     11\n",
      "15              FT               IN     13\n",
      "4               FT               CA     15\n",
      "10              FT               GB     32\n",
      "30              FT               US    207\n"
     ]
    }
   ],
   "source": [
    "# выполните группировку согласно варианту\n",
    "grouped = (df.groupby([\"employment_type\", \"company_location\"], observed=True).size().reset_index(name=\"count\"))\n",
    "\n",
    "grouped = grouped.sort_values(\"count\", ascending=True)\n",
    "\n",
    "print(grouped)"
   ]
  },
  {
   "cell_type": "markdown",
   "metadata": {
    "id": "HCyyeAu6ne7a"
   },
   "source": [
    "**`Сделайте вывод - интерпретацию - что можно увидеть из результата данной группировки?`**"
   ]
  },
  {
   "cell_type": "markdown",
   "metadata": {},
   "source": [
    "Промежуточный вывод по полученной группировке:<br>\n",
    "1.\tДоминирующая группа <br>\n",
    "•\tАбсолютное большинство наблюдений приходится на сотрудников с полной занятостью (FT) в США (206 записей).<br>\n",
    "•\tЭто указывает на то, что рынок труда США представлен наиболее широко и сильно влияет на общую картину.<br>\n",
    "2.\tСтраны с заметным присутствием<br>\n",
    "•\tПомимо США, значительные значения у Великобритании (32), Канады (15), Индии (13), Франции и Германии (по 11) и Испании и Греции (по 9).<br>\n",
    "•\tЭти страны формируют «второй эшелон» по количеству сотрудников.<br>\n",
    "3.\tСтраны с единичными значениями<br>\n",
    "•\tМногие страны (Бразилия, Австралия, Япония, Россия, Украина и др.) представлены всего одной записью, что отражает либо редкость данных из этих регионов, либо ограниченность выборки.<br>\n",
    "4.\tОсобенности по типу занятости<br>\n",
    "•\tПочти все записи относятся к полной занятости (FT).<br>\n",
    "•\tЧастичная занятость (PT) встречается только в отдельных странах Европы и Северной Африки (Испания, Италия, Германия, Нидерланды, Алжир).<br>\n",
    "•\tСвободная занятость (FL) представлена только в США (2 записи).<br>\n"
   ]
  },
  {
   "cell_type": "markdown",
   "metadata": {
    "id": "NKLZ0m7Nne7b"
   },
   "source": [
    "---\n",
    "\n",
    "**Обратите внимание, что на защите вы должны ориентироваться в синтаксисе. При необходимости нужно быть готовым изменить код по просьбе преподавателя. Например, вместо среднего значения подсчитать медиану и т.д.**\n",
    "\n",
    "\n",
    " ---"
   ]
  },
  {
   "cell_type": "markdown",
   "metadata": {
    "id": "_3fHGp64nhUJ"
   },
   "source": [
    "#### Задание 3"
   ]
  },
  {
   "cell_type": "markdown",
   "metadata": {
    "id": "_Bc4ehyKnhUJ"
   },
   "source": [
    "Сводная таблица (pivot_table) - средняя зарплата по годам\n",
    "(”work_year”). Отсортировать по убыванию зп. Округлить до трёх знаков после\n",
    "запятой. Переименовать столбец “salary” в “зарплата”."
   ]
  },
  {
   "cell_type": "code",
   "execution_count": 16,
   "metadata": {
    "id": "siDovPvQnhUJ"
   },
   "outputs": [
    {
     "name": "stdout",
     "output_type": "stream",
     "text": [
      "   work_year    зарплата\n",
      "0       2020  548347.857\n",
      "1       2021  501913.796\n",
      "2       2022  167179.269\n"
     ]
    }
   ],
   "source": [
    "# выполните сводную таблицу согласно варианту\n",
    "pivot = pd.pivot_table(df, values='salary', index='work_year')\n",
    "\n",
    "pivot = pivot.rename(columns={'salary': 'зарплата'})\n",
    "\n",
    "pivot = pivot.round(3)\n",
    "pivot = pivot.sort_values(by='зарплата', ascending=False)\n",
    "\n",
    "pivot = pivot.reset_index()\n",
    "print(pivot)"
   ]
  },
  {
   "cell_type": "markdown",
   "metadata": {
    "id": "1-vw8iyUnhUK"
   },
   "source": [
    "**`Сделайте вывод - интерпретацию - что можно увидеть из результата данной сводной таблицы?`**"
   ]
  },
  {
   "cell_type": "markdown",
   "metadata": {},
   "source": [
    "Промежуточный вывод по полученной группировке: <br>\n",
    "1.\tДинамика по годам<br>\n",
    "•\tВ 2020 году средняя зарплата была наибольшей — ≈548 тыс.<br>\n",
    "•\tВ 2021 году показатель снизился, но остался высоким — ≈502 тыс.<br>\n",
    "•\tВ 2022 году наблюдается резкое падение — до ≈167 тыс.<br>\n",
    "2.\tОбщая тенденция<br>\n",
    "•\tС 2020 по 2022 год прослеживается устойчивая нисходящая динамика зарплат.<br>\n",
    "•\tОсобенно заметен обвал в 2022 году, где среднее значение более чем втрое меньше, чем в 2020–2021 годах.<br>\n",
    "3.\tВозможная интерпретация<br>\n",
    "•\tЭто может быть связано с изменением структуры выборки: в 2022 году в датасет попало больше сотрудников из стран с низкими зарплатами или из компаний меньшего размера.<br>\n",
    "•\tТакже возможны экономические причины (например, влияние кризиса или изменений на рынке труда).<br>\n"
   ]
  },
  {
   "cell_type": "markdown",
   "metadata": {
    "id": "wKFm0zDenhUK"
   },
   "source": [
    "---\n",
    "\n",
    "**Обратите внимание, что на защите вы должны ориентироваться в синтаксисе. При необходимости нужно быть готовым изменить код по просьбе преподавателя. Например, вместо среднего значения подсчитать медиану и т.д.**\n",
    "\n",
    "\n",
    " ---"
   ]
  },
  {
   "cell_type": "markdown",
   "metadata": {
    "id": "FOlw74xCniNo"
   },
   "source": [
    "#### Задание 4"
   ]
  },
  {
   "cell_type": "markdown",
   "metadata": {
    "id": "4tvYwT25niNq"
   },
   "source": [
    "Сводная таблица (pivot_table) - средняя зарплата в usd по должностям\n",
    "(”job_title”) - строки, и по годам - столбцы. Отсортировать по возрастанию названия\n",
    "должности (”job_title”) ."
   ]
  },
  {
   "cell_type": "code",
   "execution_count": 17,
   "metadata": {
    "id": "TfJ719g6niNq"
   },
   "outputs": [
    {
     "name": "stdout",
     "output_type": "stream",
     "text": [
      "Год                               2020        2021        2022\n",
      "job_title                                                     \n",
      "Data Analyst                 45547.286   79505.412   97199.321\n",
      "Data Analytics Engineer            NaN   79732.333   20000.000\n",
      "Data Analytics Lead                NaN         NaN  405000.000\n",
      "Data Analytics Manager             NaN  126666.667  127485.000\n",
      "Data Engineer                88162.000   79434.871  125380.833\n",
      "Data Science Engineer              NaN   83705.000   60000.000\n",
      "Data Scientist               85970.524   70215.773  130367.984\n",
      "Head of Data Science               NaN   97500.000  195937.500\n",
      "Head of Machine Learning           NaN         NaN   79039.000\n",
      "Machine Learning Developer         NaN  100000.000   78791.000\n",
      "Machine Learning Manager    117104.000         NaN         NaN\n",
      "NLP Engineer                       NaN         NaN   37236.000\n",
      "Product Data Analyst         13036.000         NaN         NaN\n"
     ]
    }
   ],
   "source": [
    "# выполните сводную таблицу согласно варианту\n",
    "pivot = pd.pivot_table(df, values='salary_in_usd', index='job_title', columns='work_year', aggfunc='mean')\n",
    "\n",
    "pivot = pivot.round(3)\n",
    "\n",
    "pivot = pivot.sort_index(ascending=True)\n",
    "\n",
    "pivot.columns.name = 'Год'\n",
    "print(pivot)"
   ]
  },
  {
   "cell_type": "markdown",
   "metadata": {
    "id": "yqJqvk5qniNr"
   },
   "source": [
    "**`Сделайте вывод - интерпретацию - что можно увидеть из результата выполнения данного кода?`**"
   ]
  },
  {
   "cell_type": "markdown",
   "metadata": {},
   "source": [
    "Промежуточный вывод по полученной группировке: <br>\n",
    "1.\tРост зарплат по ключевым профессиям<br>\n",
    "•\tData Scientist: с ≈85,970 в 2020 до ≈129,104 в 2022 — устойчивый рост, особенно в 2022.<br>\n",
    "•\tData Engineer: незначительное снижение в 2021 (≈79,435), но затем рост до ≈125,381 в 2022.<br>\n",
    "•\tData Analyst: постепенное увеличение — с ≈45,547 в 2020 до ≈97,199 в 2022.<br>\n",
    "2.\tРедкие должности с выбросами<br>\n",
    "•\tData Analytics Lead (405,000 в 2022) и Head of Data Science (195,938 в 2022) имеют экстремально высокие значения, что связано с редкими позициями в выборке и, возможно, единичными наблюдениями.<br>\n",
    "•\tProduct Data Analyst встречается только в 2020 году (≈13,036).<br>\n",
    "3.\tДолжности с падением зарплат<br>\n",
    "•\tMachine Learning Developer: с 100,000 (2021) до 78,791 (2022).<br>\n",
    "•\tHead of Machine Learning: единственное значение в 2022 году — 79,039 (относительно низко для уровня «Head»).<br>\n",
    "•\tNLP Engineer: в 2022 году всего ≈37,236 — также низкий показатель, возможно из-за малой выборки.<br>\n",
    "4.\tОбщая тенденция<br>\n",
    "•\tОсновные роли в области Data Science и Data Engineering демонстрируют устойчивый рост доходов.<br>\n",
    "•\tМенеджерские и редкие позиции дают сильные колебания, что связано с малым количеством данных.<br>\n",
    "•\tТаблица показывает усиление спроса и роста зарплат в 2022 году именно для базовых ролей (Data Scientist, Data Engineer, Data Analyst).<br>\n"
   ]
  },
  {
   "cell_type": "markdown",
   "metadata": {
    "id": "tIkuqJKUniNs"
   },
   "source": [
    "---\n",
    "\n",
    "**Обратите внимание, что на защите вы должны ориентироваться в синтаксисе. При необходимости нужно быть готовым изменить код по просьбе преподавателя. Например, вместо среднего значения подсчитать медиану и т.д.**\n",
    "\n",
    "\n",
    " ---"
   ]
  },
  {
   "cell_type": "markdown",
   "metadata": {
    "id": "TpnXb6gip3S8"
   },
   "source": [
    "### Вывод"
   ]
  },
  {
   "cell_type": "markdown",
   "metadata": {
    "id": "nqLa096jM1Z8"
   },
   "source": [
    "\n",
    "***`Сделать расширенный вывод. `***\n",
    "\n",
    "Вывод должен описывать результаты исследования: какой набор данных вы анализировали (предметная область), какие методы предобработки применили, какие выводы из группировок и сводных таблиц можно сделать (они могут повторять выводы выше) и т.п. Объём вывода, как правило не более 0.5-0.75 страницы А4, всё таки вывод должен быть конкретным (без теории и “воды”).\n"
   ]
  },
  {
   "cell_type": "markdown",
   "metadata": {},
   "source": [
    "В ходе лабораторной работы был проанализирован набор данных salary.csv, содержащий информацию о заработных платах сотрудников в различных странах и компаниях. Данные включали: год выплаты заработной платы, тип занятости (PT — частичная, FT — полная, FL — фриланс), должность, зарплату в исходной валюте и в долларах США, страну проживания сотрудника, страну расположения главного офиса компании, а также размер компании (S — малая, M — средняя, L — крупная). <br>\n",
    "Предобработка данных включала:<br>\n",
    "•\tпроверку и корректировку названий столбцов;<br>\n",
    "•\tвыявление и заполнение пропусков: числовые значения заменены медианами, категориальные признаки — модальными значениями;<br>\n",
    "•\tудаление дубликатов;<br>\n",
    "•\tприведение типов данных: годы и зарплаты переведены в int64, категориальные признаки (тип занятости, страна проживания, локация компании, размер компании) приведены к типу category.<br>\n",
    "Ключевые выводы из анализа:<br>\n",
    "1.\tДинамика зарплат по годам: средние значения зарплат в долларах снизились с ≈548 тыс. в 2020 году до ≈502 тыс. в 2021, а затем резко упали в 2022 году до ≈167 тыс. Такая тенденция указывает на сильное падение доходов в выборке 2022 года, вероятно, связанное с изменением структуры данных или рыночными факторами.<br>\n",
    "2.\tРазмер компаний и годы: в 2020–2021 годах лидировали крупные компании (L), однако в 2022 году на первый план вышли компании среднего размера (M — 173 сотрудника). При этом число сотрудников малых компаний (S) резко снизилось, что отражает возможную консолидацию рынка.<br>\n",
    "3.\tГруппировка по типу занятости и локации компаний: абсолютное доминирование принадлежит полной занятости (FT), особенно в США (206 сотрудников). Другие страны представлены значительно меньше, зачастую единичными наблюдениями. Частичная занятость (PT) встречается преимущественно в Европе, а фриланс (FL) — только в США.<br>\n",
    "4.\tСводная таблица по должностям и годам: профессии Data Scientist, Data Engineer и Data Analyst демонстрируют устойчивый рост зарплат к 2022 году, что отражает высокий спрос на специалистов в этих областях. В то же время редкие должности (например, Data Analytics Lead, Head of Data Science) показали очень высокие или нестабильные значения, что связано с малым числом наблюдений.\n",
    "Таким образом, проведённая предобработка позволила очистить и структурировать данные, а анализ показал ключевые тенденции: доминирование полной занятости и рынка США, рост роли компаний среднего размера в 2022 году, а также устойчивый рост зарплат в ключевых профессиях в сфере Data Science при нестабильности редких должностей.<br>\n"
   ]
  },
  {
   "cell_type": "markdown",
   "metadata": {
    "id": "Sn3y7og_vjGG"
   },
   "source": [
    "### Дополнительное задание"
   ]
  },
  {
   "cell_type": "markdown",
   "metadata": {
    "id": "rR6WgHXYvlqD"
   },
   "source": [
    "**`Подробная формулировка задания`**\n",
    "Создать столбец “Категория зарплаты в долларах” (с помощью\n",
    "категоризации). Выделить минимум 3 категории (низкая, высокая, средняя),\n",
    "фильтрацию для уровня зарплаты выбрать самостоятельно, аргументировать\n",
    "выбор. Создать сводную таблицу: средняя и медианная зп в долларах по\n",
    "категории зарплаты в долларах и среднему количество людей в компании. "
   ]
  },
  {
   "cell_type": "code",
   "execution_count": 25,
   "metadata": {
    "id": "wG5TGQpevlBq"
   },
   "outputs": [
    {
     "name": "stdout",
     "output_type": "stream",
     "text": [
      "\n",
      "Сводная таблица:\n",
      "                                                    mean        median\n",
      "                                           salary_in_usd salary_in_usd\n",
      "Категория зарплаты в долларах company_size                            \n",
      "Высокая                       L                195675.00      172500.0\n",
      "                              M                175190.92      165310.0\n",
      "Низкая                        L                 37966.00       37825.0\n",
      "                              M                 39120.45       43966.0\n",
      "                              S                 29041.40       23600.5\n",
      "Средняя                       L                 96938.16       96282.0\n",
      "                              M                 98996.17      100000.0\n",
      "                              S                 85984.71       87738.0\n",
      "Квартильные границы:\n",
      "Q1 = 60000.0 | Q2 (медиана) = 99025.0 | Q3 = 135000.0\n"
     ]
    },
    {
     "name": "stderr",
     "output_type": "stream",
     "text": [
      "C:\\Users\\ar121\\AppData\\Local\\Temp\\ipykernel_27396\\55164804.py:15: FutureWarning: The default value of observed=False is deprecated and will change to observed=True in a future version of pandas. Specify observed=False to silence this warning and retain the current behavior\n",
      "  pivot = pd.pivot_table(\n",
      "C:\\Users\\ar121\\AppData\\Local\\Temp\\ipykernel_27396\\55164804.py:15: FutureWarning: The default value of observed=False is deprecated and will change to observed=True in a future version of pandas. Specify observed=False to silence this warning and retain the current behavior\n",
      "  pivot = pd.pivot_table(\n"
     ]
    }
   ],
   "source": [
    "# код выполнения задания\n",
    "q1 = df[\"salary_in_usd\"].quantile(0.25)\n",
    "q2 = df[\"salary_in_usd\"].quantile(0.5)\n",
    "q3 = df[\"salary_in_usd\"].quantile(0.75)\n",
    "\n",
    "def categorize_salary(salary):\n",
    "    if salary <= q1:\n",
    "        return \"Низкая\"\n",
    "    elif salary <= q3:\n",
    "        return \"Средняя\"\n",
    "    else:\n",
    "        return \"Высокая\"\n",
    "\n",
    "df[\"Категория зарплаты в долларах\"] = df[\"salary_in_usd\"].apply(categorize_salary)\n",
    "pivot = pd.pivot_table(\n",
    "    df,\n",
    "    values=\"salary_in_usd\",\n",
    "    index=[\"Категория зарплаты в долларах\", \"company_size\"],\n",
    "    aggfunc=[\"mean\", \"median\"]\n",
    ")\n",
    "\n",
    "# Округлим для удобства\n",
    "pivot = pivot.round(2)\n",
    "print(\"\\nСводная таблица:\")\n",
    "print(pivot)\n",
    "print(\"Квартильные границы:\")\n",
    "print(\"Q1 =\", q1, \"| Q2 (медиана) =\", q2, \"| Q3 =\", q3)"
   ]
  },
  {
   "cell_type": "markdown",
   "metadata": {},
   "source": [
    "Аргументация выбора значений в колонке «Категория зарплаты в долларах» \n",
    "\n",
    "Для выделения категорий заработных плат был выбран метод разбиения по квартилям:\n",
    "\n",
    "Низкая зарплата — значения, меньшие или равные первому квартилю (Q1). Это 25% сотрудников с самыми низкими доходами.\n",
    "\n",
    "Средняя зарплата — значения между первым и третьим квартилем (Q1–Q3). Это основной диапазон зарплат, который охватывает 50% сотрудников.\n",
    "\n",
    "Высокая зарплата — значения, превышающие третий квартиль (Q3). Это 25% сотрудников с наибольшими доходами.\n",
    "\n",
    "Такой способ категоризации выбран потому что:\n",
    "\n",
    "Адаптивность к данным: границы не фиксированы заранее, а зависят от реального распределения зарплат в датасете.\n",
    "\n",
    "Сбалансированность классов: каждая категория содержит сопоставимое количество наблюдений, что позволяет избежать перекоса, когда большинство сотрудников оказывается в одной категории.\n",
    "\n",
    "Интерпретируемость: разделение по квартилям — стандартный статистический метод, который часто применяется в анализе доходов и социально-экономических данных.\n",
    "\n",
    "Таким образом, использование квартилей позволяет корректно и объективно разделить сотрудников на группы по уровню зарплаты без субъективного выбора порогов."
   ]
  },
  {
   "cell_type": "markdown",
   "metadata": {
    "id": "y-qpTuhTvon3"
   },
   "source": [
    "***`Подробный вывод по заданию, описание полученных результатов`***"
   ]
  }
 ],
 "metadata": {
  "colab": {
   "provenance": []
  },
  "kernelspec": {
   "display_name": "Python 3 (ipykernel)",
   "language": "python",
   "name": "python3"
  },
  "language_info": {
   "codemirror_mode": {
    "name": "ipython",
    "version": 3
   },
   "file_extension": ".py",
   "mimetype": "text/x-python",
   "name": "python",
   "nbconvert_exporter": "python",
   "pygments_lexer": "ipython3",
   "version": "3.10.1"
  }
 },
 "nbformat": 4,
 "nbformat_minor": 4
}
